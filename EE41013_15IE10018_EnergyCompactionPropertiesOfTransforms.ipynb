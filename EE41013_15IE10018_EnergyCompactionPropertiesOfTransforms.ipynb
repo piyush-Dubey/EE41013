{
 "cells": [
  {
   "cell_type": "code",
   "execution_count": 1,
   "metadata": {},
   "outputs": [],
   "source": [
    "import numpy as np\n",
    "import matplotlib.pyplot as plt\n",
    "import time"
   ]
  },
  {
   "cell_type": "code",
   "execution_count": 2,
   "metadata": {},
   "outputs": [],
   "source": [
    "def dft(xn):\n",
    "    '''\n",
    "    xn is a column vector\n",
    "    '''\n",
    "    N = len(xn)\n",
    "    xn = xn.astype(np.complex)\n",
    "    D = np.ones(N, dtype=np.complex)\n",
    "    for i in range(1, N):\n",
    "        n = np.arange(N) * i\n",
    "        arr = np.exp(-np.complex(0, 1) * 2 * np.pi * n / N)\n",
    "        D = np.vstack([D, arr])\n",
    "        #W = np.append(np.array(W), np.array(arr))\n",
    "    X = np.matmul(D, xn)\n",
    "    return X"
   ]
  },
  {
   "cell_type": "code",
   "execution_count": 3,
   "metadata": {},
   "outputs": [],
   "source": [
    "def idft(X):#returns idft of X\n",
    "    N = len(X)\n",
    "    idft_matrix=np.empty([N,N],dtype=np.complex_)\n",
    "    idft_matrix=np.matrix(idft_matrix)\n",
    "    indices=np.arange(0,N,1)\n",
    "    for k in indices:\n",
    "        for n in indices:\n",
    "            idft_matrix[k,n]=np.exp((1j)*2*np.pi*k*n/N)\n",
    "    idft_matrix=idft_matrix/N\n",
    "    xn = np.matmul(idft_matrix, X)\n",
    "    return xn"
   ]
  },
  {
   "cell_type": "code",
   "execution_count": 4,
   "metadata": {},
   "outputs": [],
   "source": [
    "def dct(xn):#returns dcft matrix\n",
    "    N = len(xn)\n",
    "    dct_matrix=np.empty([N,N],dtype=np.complex_)\n",
    "    dct_matrix=np.matrix(dct_matrix)\n",
    "    indices=np.arange(0,N,1)\n",
    "    for k in indices:\n",
    "        for n in indices:\n",
    "            dct_matrix[k,n]=2*np.cos(np.pi*k*(2*n+1)/(2*N))\n",
    "    \n",
    "    X = np.matmul(dct_matrix, xn)\n",
    "    return X"
   ]
  },
  {
   "cell_type": "code",
   "execution_count": 5,
   "metadata": {},
   "outputs": [],
   "source": [
    "def idct(X):#returns dcft matrix\n",
    "    N = len(X)\n",
    "    idct_matrix=np.empty([N,N],dtype=np.complex_)\n",
    "    idct_matrix=np.matrix(idct_matrix)\n",
    "    indices=np.arange(0,N,1)\n",
    "    for k in indices: \n",
    "        for n in indices:\n",
    "            if n==0:\n",
    "                alpha=0.5\n",
    "            else:\n",
    "                alpha=1\n",
    "            idct_matrix[k,n]=alpha*np.cos(np.pi*n*(2*k+1)/(2*N))\n",
    "    idct_matrix=idct_matrix/N\n",
    "    xn = idct_matrix * X\n",
    "    return xn"
   ]
  },
  {
   "cell_type": "code",
   "execution_count": 6,
   "metadata": {},
   "outputs": [],
   "source": [
    "def haar(N):\n",
    "    if N==2:\n",
    "        h2=np.matrix([[1,1],[1,-1]])\n",
    "        return h2\n",
    "    v=np.log2(N)-1\n",
    "    hn2=haar(N/2)\n",
    "    result1=np.concatenate((hn2,hn2),axis=1)\n",
    "    matrix1=(pow(2,v/2))*np.identity(int(N/2))\n",
    "    result2=np.concatenate((matrix1,-matrix1),axis=1)\n",
    "    return np.concatenate((result1,result2),axis=0)"
   ]
  },
  {
   "cell_type": "code",
   "execution_count": 7,
   "metadata": {},
   "outputs": [],
   "source": [
    "def ihaar(N):\n",
    "    haar_matrix=haar(N)\n",
    "    return np.transpose(haar_matrix)/N"
   ]
  },
  {
   "cell_type": "code",
   "execution_count": 8,
   "metadata": {},
   "outputs": [],
   "source": [
    "def generalised_transform(transform_type,x):\n",
    "    N=len(x)\n",
    "    #print(N)\n",
    "    if transform_type==0:\n",
    "        gtm=dft(x)\n",
    "        return gtm\n",
    "    if transform_type==1:\n",
    "        gtm=dct(x)\n",
    "        return gtm\n",
    "    gtm=haar(N)\n",
    "    return gtm*x"
   ]
  },
  {
   "cell_type": "code",
   "execution_count": 9,
   "metadata": {},
   "outputs": [],
   "source": [
    "def generalised_inverse_transform(transform_type,X):\n",
    "    N=len(X)\n",
    "    #print(N)\n",
    "    if transform_type==0:\n",
    "        igtm=idft(X)\n",
    "        return igtm\n",
    "    if transform_type==1:\n",
    "        igtm=idct(X)\n",
    "        return igtm\n",
    "    igtm=ihaar(N)\n",
    "    return igtm*X "
   ]
  },
  {
   "cell_type": "code",
   "execution_count": 10,
   "metadata": {},
   "outputs": [],
   "source": [
    "def xmdft(X,L,N):\n",
    "    for i in range(int((N+1-L)/2),int((N-1+L)/2)+1,1):\n",
    "        X[i]=0\n",
    "    return X"
   ]
  },
  {
   "cell_type": "code",
   "execution_count": 11,
   "metadata": {},
   "outputs": [],
   "source": [
    "def  xdcthaar(X,L,N):\n",
    "    for i in range(N-L,N):\n",
    "        X[i]=0\n",
    "    return X"
   ]
  },
  {
   "cell_type": "code",
   "execution_count": 18,
   "metadata": {},
   "outputs": [],
   "source": [
    "def dot_product(x,y,N):\n",
    "    err=x-y\n",
    "    errt=np.transpose(err)\n",
    "    errt=np.conjugate(errt)\n",
    "    \n",
    "    return errt*err/N"
   ]
  },
  {
   "cell_type": "code",
   "execution_count": 42,
   "metadata": {},
   "outputs": [],
   "source": [
    "def mse(transform_type,x,X,N):\n",
    "    err= np.array([])\n",
    "    for l in range(0,N,1):\n",
    "        if transform_type==0:\n",
    "            Xm=xmdft(X,l,N)\n",
    "            xm=generalised_inverse_transform(0,Xm)\n",
    "        if transform_type==1:\n",
    "            Xm=xdcthaar(X,l,N)\n",
    "            xm=generalised_inverse_transform(1,Xm)\n",
    "        if transform_type==2:\n",
    "            Xm=xdcthaar(X,l,N)\n",
    "            xm=generalised_inverse_transform(2,Xm)\n",
    "        temp = np.mean(np.square(np.abs(x - xm)))\n",
    "        err=np.append(err,temp)\n",
    "    return err "
   ]
  },
  {
   "cell_type": "code",
   "execution_count": null,
   "metadata": {
    "scrolled": true
   },
   "outputs": [],
   "source": [
    "# input sequence generator\n",
    "length=100\n",
    "real=np.random.rand(length)\n",
    "img=np.random.rand(length)\n",
    "x=real+1j*img\n",
    "x=np.matrix(x)\n",
    "x=np.transpose(x)\n",
    "color=['r','g','b']\n",
    "for i in range(0, 3, 1):\n",
    "    X=generalised_transform(i,x)\n",
    "    #print(X)\n",
    "    err=mse(i,x,X,length)\n",
    "    #print(err)\n",
    "    plt.plot(np.arange(0,length,1),err,color[i])\n"
   ]
  },
  {
   "cell_type": "code",
   "execution_count": null,
   "metadata": {},
   "outputs": [],
   "source": []
  }
 ],
 "metadata": {
  "kernelspec": {
   "display_name": "Python 3",
   "language": "python",
   "name": "python3"
  },
  "language_info": {
   "codemirror_mode": {
    "name": "ipython",
    "version": 3
   },
   "file_extension": ".py",
   "mimetype": "text/x-python",
   "name": "python",
   "nbconvert_exporter": "python",
   "pygments_lexer": "ipython3",
   "version": "3.6.5"
  }
 },
 "nbformat": 4,
 "nbformat_minor": 2
}
