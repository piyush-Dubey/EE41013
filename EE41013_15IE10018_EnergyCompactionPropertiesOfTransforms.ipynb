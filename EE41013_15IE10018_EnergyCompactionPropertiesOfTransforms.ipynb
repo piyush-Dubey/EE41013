{
 "cells": [
  {
   "cell_type": "code",
   "execution_count": 20,
   "metadata": {},
   "outputs": [],
   "source": [
    "import numpy as np\n",
    "import matplotlib.pyplot as plt\n",
    "k=64\n",
    "x = np.random.uniform(low=0,high=0.5,size=(k,1))\n",
    "x = np.transpose(x)\n",
    "#defining haar_matrix  "
   ]
  },
  {
   "cell_type": "code",
   "execution_count": 21,
   "metadata": {},
   "outputs": [],
   "source": [
    "def dft(n):\n",
    "    dft_mat = []\n",
    "    for i in range(n):\n",
    "        for j in range(n):\n",
    "            k = i*j\n",
    "            k1 = np.exp(-((2*1j*np.pi*k)/n))\n",
    "            dft_mat = np.append(dft_mat,k1)\n",
    "    dft_mat = np.reshape(dft_mat,(n,n))      \n",
    "    return dft_mat "
   ]
  },
  {
   "cell_type": "code",
   "execution_count": 22,
   "metadata": {},
   "outputs": [],
   "source": [
    "def dct(N):\n",
    "    dct_mat=[]\n",
    "    for n in range(N):\n",
    "        for k in range(N):\n",
    "            ans = np.cos((np.pi*k*(2*n+1))/(2*N))\n",
    "            dct_mat = np.append(dct_mat, ans)\n",
    "            \n",
    "    dct_mat = np.reshape(dct_mat,(N,N))   \n",
    " \n",
    "    return dct_mat"
   ]
  },
  {
   "cell_type": "code",
   "execution_count": 23,
   "metadata": {},
   "outputs": [],
   "source": [
    "def haar(N):\n",
    "    final=[]\n",
    "    if N==2:\n",
    "        return(np.matrix(([1,1],[1,-1])))\n",
    "    v = np.log2(N)-1\n",
    "    hn2 = haar(N/2)\n",
    "    result1 = np.concatenate((hn2,hn2),axis=1)\n",
    "    matrix1 = (pow(2,v/2))*np.identity(int(N/2))\n",
    "    result2 = np.concatenate((matrix1,-matrix1),axis=1)\n",
    "    final = np.concatenate((result1,result2),axis=0)\n",
    "    return(final)"
   ]
  },
  {
   "cell_type": "code",
   "execution_count": 24,
   "metadata": {},
   "outputs": [],
   "source": [
    "def update_dft(l,ydft,k):\n",
    "#    print(l)\n",
    "\n",
    "    a = (int((k+1-l)/2))\n",
    "    b = (int((k+1+l)/2))\n",
    "    for k in range(a,b, 1):\n",
    "    \n",
    "        ydft[0][k] = 0\n",
    "    return ydft    "
   ]
  },
  {
   "cell_type": "code",
   "execution_count": 25,
   "metadata": {},
   "outputs": [],
   "source": [
    "def error(x,y,k):\n",
    "    diff=0\n",
    "    for i in range(k):\n",
    "        diff += np.square(abs(x[0][i]- y[0][i]))\n",
    "        \n",
    "#    print(diff)    \n",
    "    return(diff/k)"
   ]
  },
  {
   "cell_type": "code",
   "execution_count": 26,
   "metadata": {},
   "outputs": [],
   "source": [
    "def update_dct_haar(l,mat):\n",
    "    for i in range(l):\n",
    "        mat[0][l]=0\n",
    "    return(mat)  "
   ]
  },
  {
   "cell_type": "code",
   "execution_count": 27,
   "metadata": {},
   "outputs": [],
   "source": [
    "#calculating dft\n",
    "ydft = np.matmul(x,dft(k))   \n",
    "# calculating dct\n",
    "ydct = np.matmul(x,dct(k))\n",
    "#calculating haar\n",
    "haar1 = np.transpose(haar(k))\n",
    "yhaar = np.matmul(x,haar1)\n",
    "yhaar = np.array(yhaar)"
   ]
  },
  {
   "cell_type": "code",
   "execution_count": 28,
   "metadata": {},
   "outputs": [
    {
     "data": {
      "image/png": "[encoded data removed]",
      "text/plain": [
       "<Figure size 432x288 with 1 Axes>"
      ]
     },
     "metadata": {},
     "output_type": "display_data"
    }
   ],
   "source": [
    "#main code for DFT\n",
    "final_error=[] \n",
    "for L in range(k):\n",
    "    ydft_updated = update_dft(L,ydft,k)\n",
    "    xinv = np.linalg.inv(dft(k))\n",
    "#    \n",
    "    dft_out = np.matmul(ydft_updated,xinv)\n",
    "    final_error = np.append(final_error,error(x,dft_out,k))\n",
    "    \n",
    "   \n",
    "    \n",
    "  \n",
    "inputx = np.arange(0,k,1) \n",
    "\n",
    "#plt.plot(inputx,final_error)   \n",
    "        \n",
    "      \n",
    "   \n",
    "##main code for DCT\n",
    "final_error_dct=[] \n",
    "for L in range(k):\n",
    "    ydct_updated = update_dct_haar(L,ydct)\n",
    "    yinv = np.linalg.inv(dct(k))\n",
    "    dct_out = np.matmul(ydct_updated,yinv)\n",
    "    final_error_dct= np.append(final_error_dct,error(x,dct_out,k))\n",
    "\n",
    "\n",
    "\n",
    "final_error_haar=[] \n",
    "for L in range(k):\n",
    "    yhaar_updated = update_dct_haar(L,yhaar)\n",
    "    zinv = np.linalg.inv(np.transpose(haar(k)))\n",
    "    haar_out = np.matmul(yhaar_updated,zinv)\n",
    "    haar_out = np.array(haar_out)\n",
    "    final_error_haar= np.append(final_error_haar,error(x,haar_out,k))\n",
    "\n",
    "\n",
    "\n",
    "plt.plot(inputx,final_error, 'r', label='DFT') \n",
    "plt.plot(inputx,final_error_dct,'b', label = 'DCT') \n",
    "plt.plot(inputx,final_error_haar, 'g', label='HAAR')\n",
    "plt.show()"
   ]
  },
  {
   "cell_type": "code",
   "execution_count": null,
   "metadata": {},
   "outputs": [],
   "source": []
  },
  {
   "cell_type": "code",
   "execution_count": null,
   "metadata": {},
   "outputs": [],
   "source": []
  }
 ],
 "metadata": {
  "kernelspec": {
   "display_name": "Python 3",
   "language": "python",
   "name": "python3"
  },
  "language_info": {
   "codemirror_mode": {
    "name": "ipython",
    "version": 3
   },
   "file_extension": ".py",
   "mimetype": "text/x-python",
   "name": "python",
   "nbconvert_exporter": "python",
   "pygments_lexer": "ipython3",
   "version": "3.6.5"
  }
 },
 "nbformat": 4,
 "nbformat_minor": 2
}
