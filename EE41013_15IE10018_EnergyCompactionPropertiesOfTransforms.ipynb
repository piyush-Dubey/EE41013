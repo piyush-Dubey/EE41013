{
 "cells": [
  {
   "cell_type": "code",
   "execution_count": 13,
   "metadata": {},
   "outputs": [],
   "source": [
    "import numpy as np\n",
    "import matplotlib.pyplot as plt\n",
    "import time"
   ]
  },
  {
   "cell_type": "code",
   "execution_count": 14,
   "metadata": {},
   "outputs": [],
   "source": [
    "def dft(xn):\n",
    "    '''\n",
    "    Returns DFT for a given signal xn\n",
    "    '''\n",
    "    N = len(xn)\n",
    "    xn = xn.astype(np.complex)\n",
    "    D = np.ones(N, dtype=np.complex)\n",
    "    for i in range(1, N):\n",
    "        n = np.arange(N) * i\n",
    "        arr = np.exp(-1j * 2 * np.pi * n / N)\n",
    "        D = np.vstack([D, arr])\n",
    "        #W = np.append(np.array(W), np.array(arr))\n",
    "    X = np.matmul(D, xn)\n",
    "    return X"
   ]
  },
  {
   "cell_type": "code",
   "execution_count": 15,
   "metadata": {},
   "outputs": [],
   "source": [
    "def idft(X):\n",
    "    '''\n",
    "    Returns Inverse DFT for transform X\n",
    "    '''\n",
    "    N = len(X)\n",
    "    D_inv = np.ones(N, dtype=np.complex)\n",
    "    for i in range(1, N):\n",
    "        n = np.arange(N) * i\n",
    "        arr = np.exp(1j * 2 * np.pi * n / N)\n",
    "        D_inv = np.vstack([D_inv, arr])\n",
    "    D_inv = D_inv / N\n",
    "    xn = np.matmul(D_inv, X)\n",
    "    return xn"
   ]
  },
  {
   "cell_type": "code",
   "execution_count": 16,
   "metadata": {},
   "outputs": [],
   "source": [
    "def dct(xn):\n",
    "    '''\n",
    "    Returns Discrete Cosine Transform (DCT) for a given signal xn\n",
    "    '''\n",
    "    N = len(xn)\n",
    "    dct_mat = np.ones(N, dtype=np.complex)\n",
    "    for i in range(1, N):\n",
    "        n = np.arange(np.pi / (2 * N), np.pi, np.pi / N) * i\n",
    "        arr = np.cos(n)\n",
    "        dct_mat = np.vstack([dct_mat, arr])\n",
    "    dct_mat = 2 * dct_mat\n",
    "    X = np.matmul(dct_mat, xn)\n",
    "    return X"
   ]
  },
  {
   "cell_type": "code",
   "execution_count": 17,
   "metadata": {},
   "outputs": [],
   "source": [
    "def idct(X):\n",
    "    '''\n",
    "    Returns Inverse DCT for transform X\n",
    "    '''\n",
    "    N = len(X)\n",
    "    idct_mat = np.ones(N, dtype=np.complex)\n",
    "    idct_mat = idct_mat / 2\n",
    "    for i in range(1, N):\n",
    "        n = np.arange(np.pi / (2 * N), np.pi, np.pi / N) * i\n",
    "        arr = np.cos(n)\n",
    "        idct_mat = np.vstack([idct_mat, arr])\n",
    "    idct_mat = idct_mat.T / N\n",
    "    xn = np.matmul(idct_mat, X)\n",
    "    return xn"
   ]
  },
  {
   "cell_type": "code",
   "execution_count": 18,
   "metadata": {},
   "outputs": [],
   "source": [
    "def haar(N):\n",
    "    '''\n",
    "    Returns haar matrix of size NxN\n",
    "    '''\n",
    "    if N == 2:\n",
    "        h2 = np.array([[1, 1], [1, -1]])\n",
    "        return h2\n",
    "    v = np.log2(N) - 1\n",
    "    hn2 = haar(N / 2)\n",
    "    result1 = np.concatenate((hn2, hn2), axis=1)\n",
    "    matrix1 = (pow(2, v / 2)) * np.identity(int(N / 2))\n",
    "    result2 = np.concatenate((matrix1, -matrix1), axis = 1)\n",
    "    return np.concatenate((result1, result2), axis=0)"
   ]
  },
  {
   "cell_type": "code",
   "execution_count": 19,
   "metadata": {},
   "outputs": [],
   "source": [
    "def ihaar(N):\n",
    "    '''\n",
    "    Returns inverse haar matrix of size NxN\n",
    "    '''\n",
    "    haar_matrix = haar(N)\n",
    "    return np.transpose(haar_matrix) / N"
   ]
  },
  {
   "cell_type": "code",
   "execution_count": 20,
   "metadata": {},
   "outputs": [],
   "source": [
    "def generalised_transform(transform_type, x):\n",
    "    '''\n",
    "    Returns the generalized transform of signal x\n",
    "    0 -> DFT\n",
    "    1 -> DCT\n",
    "    2 -> Haar transform\n",
    "    '''\n",
    "    N = len(x)\n",
    "    #print(N)\n",
    "    if transform_type == 0:\n",
    "        gtm = dft(x)\n",
    "        return gtm\n",
    "    if transform_type == 1:\n",
    "        gtm = dct(x)\n",
    "        return gtm\n",
    "    gtm = haar(N)\n",
    "    return np.matmul(gtm, x)"
   ]
  },
  {
   "cell_type": "code",
   "execution_count": 21,
   "metadata": {},
   "outputs": [],
   "source": [
    "def generalised_inverse_transform(transform_type, X):\n",
    "    '''\n",
    "    Returns the generalized inverse transform of transform X\n",
    "    0 -> Inverse DFT\n",
    "    1 -> Inverse DCT\n",
    "    2 -> Inverse Haar transform\n",
    "    '''\n",
    "    N = len(X)\n",
    "    #print(N)\n",
    "    if transform_type == 0:\n",
    "        igtm = idft(X)\n",
    "        return igtm\n",
    "    if transform_type == 1:\n",
    "        igtm = idct(X)\n",
    "        return igtm\n",
    "    igtm = ihaar(N)\n",
    "    return igtm * X "
   ]
  },
  {
   "cell_type": "code",
   "execution_count": 22,
   "metadata": {},
   "outputs": [],
   "source": [
    "def xmdft(X, L, N):\n",
    "    '''\n",
    "    Returns the transformed domain signal with lower and higher frequency components set to 0.\n",
    "    L -> Number of points not set to 0\n",
    "    '''\n",
    "    for i in range(int((N + 1 - L) / 2), int((N - 1 + L) / 2) + 1, 1):\n",
    "        X[i] = 0\n",
    "    return X"
   ]
  },
  {
   "cell_type": "code",
   "execution_count": 23,
   "metadata": {},
   "outputs": [],
   "source": [
    "def  xdcthaar(X, L, N):\n",
    "    for i in range(N - L, N):\n",
    "        X[i] = 0\n",
    "    return X"
   ]
  },
  {
   "cell_type": "code",
   "execution_count": 24,
   "metadata": {},
   "outputs": [
    {
     "data": {
      "text/plain": [
       "'def dot_product(x,y,N):\\n    err=x-y\\n    errt=np.transpose(err)\\n    errt=np.conjugate(errt)\\n    \\n    return errt*err/N'"
      ]
     },
     "execution_count": 24,
     "metadata": {},
     "output_type": "execute_result"
    }
   ],
   "source": [
    "'''def dot_product(x,y,N):\n",
    "    err=x-y\n",
    "    errt=np.transpose(err)\n",
    "    errt=np.conjugate(errt)\n",
    "    \n",
    "    return errt*err/N'''"
   ]
  },
  {
   "cell_type": "code",
   "execution_count": 25,
   "metadata": {},
   "outputs": [],
   "source": [
    "def mse(transform_type, x, X, N):\n",
    "    '''\n",
    "    Returns mean squared error\n",
    "    '''\n",
    "    err = np.array([], dtype = np.float64)\n",
    "    for l in range(0, N, 1):\n",
    "        if transform_type == 0:\n",
    "            Xm = xmdft(X, l, N)\n",
    "            xm = generalised_inverse_transform(0, Xm)\n",
    "        if transform_type == 1:\n",
    "            Xm = xdcthaar(X, l, N)\n",
    "            xm = generalised_inverse_transform(1, Xm)\n",
    "        if transform_type == 2:\n",
    "            Xm = xdcthaar(X, l, N)\n",
    "            xm = generalised_inverse_transform(2, Xm)\n",
    "        temp = np.mean(np.square(np.abs(x - xm)))\n",
    "        err = np.append(err, temp)\n",
    "    return err"
   ]
  },
  {
   "cell_type": "code",
   "execution_count": 28,
   "metadata": {
    "scrolled": true
   },
   "outputs": [
    {
     "data": {
      "image/png": "[encoded data removed]",
      "text/plain": [
       "<Figure size 432x288 with 1 Axes>"
      ]
     },
     "metadata": {},
     "output_type": "display_data"
    }
   ],
   "source": [
    "# input sequence generator\n",
    "\n",
    "length = 100\n",
    "real = np.random.rand(length)\n",
    "img = np.random.rand(length)\n",
    "x = real+1j*img\n",
    "x = np.array(x)\n",
    "x = np.transpose(x)\n",
    "color = ['r', 'g', 'b']\n",
    "for i in range(2):\n",
    "    X = generalised_transform(i, x)\n",
    "    #print(X)\n",
    "    err = mse(i, x, X, length)\n",
    "    #break\n",
    "    #print(err)\n",
    "    plt.plot(np.arange(0, length, 1), err, color[i])\n",
    "plt.show()"
   ]
  },
  {
   "cell_type": "code",
   "execution_count": 88,
   "metadata": {
    "scrolled": true
   },
   "outputs": [],
   "source": [
    "length = 100\n",
    "real = np.random.rand(length)\n",
    "img = np.random.rand(length)\n",
    "x = real + 1j*img\n",
    "x = np.array(x)\n",
    "x = np.transpose(x)\n",
    "X = generalised_transform(0, x)"
   ]
  },
  {
   "cell_type": "code",
   "execution_count": null,
   "metadata": {},
   "outputs": [],
   "source": []
  }
 ],
 "metadata": {
  "kernelspec": {
   "display_name": "Python 3",
   "language": "python",
   "name": "python3"
  },
  "language_info": {
   "codemirror_mode": {
    "name": "ipython",
    "version": 3
   },
   "file_extension": ".py",
   "mimetype": "text/x-python",
   "name": "python",
   "nbconvert_exporter": "python",
   "pygments_lexer": "ipython3",
   "version": "3.6.5"
  }
 },
 "nbformat": 4,
 "nbformat_minor": 2
}
